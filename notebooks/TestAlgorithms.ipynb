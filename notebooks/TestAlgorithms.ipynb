{
 "cells": [
  {
   "cell_type": "markdown",
   "id": "beb4fbc5-6e0e-4c04-a77f-1c354cace371",
   "metadata": {},
   "source": [
    "# Test algorithms"
   ]
  },
  {
   "cell_type": "code",
   "execution_count": 1,
   "id": "e0705e29-6765-4dff-93ad-9c9f8360efea",
   "metadata": {},
   "outputs": [],
   "source": [
    "import cv2\n",
    "from stitching import Stitcher"
   ]
  },
  {
   "cell_type": "code",
   "execution_count": 80,
   "id": "697da31f-9624-4fba-862f-643abd35461a",
   "metadata": {},
   "outputs": [],
   "source": [
    "def extract_frames(video_path, frame_rate=12):\n",
    "    frames = []\n",
    "    cap = cv2.VideoCapture(video_path)\n",
    "    # Set the desired frame rate (in frames per second)\n",
    "    # Information of the video\n",
    "    fps = int(cap.get(cv2.CAP_PROP_FPS)) + 1\n",
    "    length = int(cap.get(cv2.CAP_PROP_FRAME_COUNT))\n",
    "    print('Frames Per second', fps)\n",
    "    print('Total frame count', length)\n",
    "    print('Frames Extraction Started...')\n",
    "\n",
    "    frame_order = 0\n",
    "    first_frames = 0\n",
    "    while True:\n",
    "        ret, frame = cap.read()\n",
    "        if (frame_order + 3) % frame_rate == 0 or frame_order == length - 1:\n",
    "            frame = cv2.resize(frame, (480, 720),  cv2.INTER_AREA)\n",
    "            if first_frames > 2:\n",
    "                frame = frame[90:720, 0:480]\n",
    "            else:\n",
    "                first_frames += 1\n",
    "            frame = cv2.rotate(frame, cv2.ROTATE_90_COUNTERCLOCKWISE)\n",
    "            cv2.imwrite(f\"frames/frame{frame_order}.png\", frame)\n",
    "            frames.append(frame)\n",
    "        frame_order += 1\n",
    "        if not ret:\n",
    "            break\n",
    "    cap.release()\n",
    "    print('Frames Extraction Done!')\n",
    "    print('Total Frames:', len(frames))\n",
    "    return frames\n"
   ]
  },
  {
   "cell_type": "code",
   "execution_count": 82,
   "id": "0fd782da-3997-411e-b53b-7ebb4698338a",
   "metadata": {},
   "outputs": [
    {
     "name": "stdout",
     "output_type": "stream",
     "text": [
      "Frames Per second 60\n",
      "Total frame count 419\n",
      "Frames Extraction Started...\n",
      "Frames Extraction Done!\n",
      "Total Frames: 36\n"
     ]
    }
   ],
   "source": [
    "frames = extract_frames(video_path=\"../video1.mp4\")"
   ]
  },
  {
   "cell_type": "code",
   "execution_count": 4,
   "id": "9bb97c64-0796-4bf2-b0aa-a40e8dd0f4d1",
   "metadata": {},
   "outputs": [
    {
     "data": {
      "text/plain": [
       "36"
      ]
     },
     "execution_count": 4,
     "metadata": {},
     "output_type": "execute_result"
    }
   ],
   "source": [
    "len(frames)"
   ]
  },
  {
   "cell_type": "code",
   "execution_count": 5,
   "id": "6a7d84af-acd6-4921-a5ac-3ecb61899f25",
   "metadata": {},
   "outputs": [],
   "source": [
    "stitcher1 = Stitcher(detector=\"sift\", confidence_threshold=0.2)"
   ]
  },
  {
   "cell_type": "code",
   "execution_count": 66,
   "id": "49a24105-41ef-43a2-817a-71d829d928cc",
   "metadata": {},
   "outputs": [
    {
     "name": "stdout",
     "output_type": "stream",
     "text": [
      "0\n",
      "4\n",
      "8\n",
      "12\n",
      "16\n",
      "20\n",
      "24\n",
      "28\n"
     ]
    }
   ],
   "source": [
    "start = 0\n",
    "res_count = 0\n",
    "while start + 4 < len(frames):\n",
    "    print(start)\n",
    "    try:\n",
    "        stitched = stitcher1.stitch(frames[start:start + 4])\n",
    "        cv2.imwrite(f\"frame_{res_count}.png\", stitched)\n",
    "        res_count += 1\n",
    "        start += 4\n",
    "    except:\n",
    "        start += 4"
   ]
  },
  {
   "cell_type": "code",
   "execution_count": 33,
   "id": "672bf51e-eec8-4597-b32d-b7a97e4235e2",
   "metadata": {},
   "outputs": [],
   "source": [
    "im_arr = [f\"frame_{count}.png\" for count in range(0,8)]"
   ]
  },
  {
   "cell_type": "code",
   "execution_count": 89,
   "id": "dfa5adcc-9c2f-46bf-807f-5973fcfbc4cd",
   "metadata": {},
   "outputs": [
    {
     "data": {
      "text/plain": [
       "['frame_5.png', 'frame_6.png', 'frame_7.png']"
      ]
     },
     "execution_count": 89,
     "metadata": {},
     "output_type": "execute_result"
    }
   ],
   "source": [
    "im_arr[5:]"
   ]
  },
  {
   "cell_type": "code",
   "execution_count": 35,
   "id": "23af20b0-7bd3-4271-aa6c-646eaf7f6f59",
   "metadata": {},
   "outputs": [],
   "source": [
    "images = [cv2.imread(im) for im in im_arr]"
   ]
  },
  {
   "cell_type": "code",
   "execution_count": 64,
   "id": "0efefb47-4e27-4bca-822b-8a9ae1673b82",
   "metadata": {},
   "outputs": [],
   "source": [
    "stitcher = Stitcher(detector=\"sift\")\n",
    "stitched = stitcher.stitch(images)"
   ]
  },
  {
   "cell_type": "code",
   "execution_count": 65,
   "id": "b833f8e4-89a2-4deb-8660-19b36c335520",
   "metadata": {},
   "outputs": [
    {
     "data": {
      "text/plain": [
       "True"
      ]
     },
     "execution_count": 65,
     "metadata": {},
     "output_type": "execute_result"
    }
   ],
   "source": [
    "cv2.imwrite(f\"test.png\", stitched)"
   ]
  },
  {
   "cell_type": "code",
   "execution_count": 62,
   "id": "9ff17e61-f095-4293-8c12-69d48fdd4ebe",
   "metadata": {},
   "outputs": [
    {
     "name": "stderr",
     "output_type": "stream",
     "text": [
      "C:\\Users\\nguyen.ton\\AppData\\Roaming\\Python\\Python39\\site-packages\\stitching\\subsetter.py:32: StitchingWarning: Not all images are included in the final panorama.\n",
      "                          If this is not intended, use the 'matches_graph_dot_file'\n",
      "                          parameter to analyze your matches. You might want to\n",
      "                          lower the 'confidence_threshold' or try another 'detector'\n",
      "                          to include all your images.\n",
      "  warnings.warn(\n"
     ]
    }
   ],
   "source": [
    "from stitching import AffineStitcher\n",
    "stitcher = AffineStitcher(detector=\"sift\")\n",
    "panorama = stitcher.stitch(images)"
   ]
  },
  {
   "cell_type": "code",
   "execution_count": 63,
   "id": "91fcf62e-3308-432c-b5e1-65a1b9e40b6f",
   "metadata": {},
   "outputs": [
    {
     "data": {
      "text/plain": [
       "True"
      ]
     },
     "execution_count": 63,
     "metadata": {},
     "output_type": "execute_result"
    }
   ],
   "source": [
    "cv2.imwrite(f\"test1.png\", stitched)"
   ]
  },
  {
   "cell_type": "code",
   "execution_count": 84,
   "id": "4a1526fd-4a66-4df9-8731-7d95accb5994",
   "metadata": {},
   "outputs": [
    {
     "data": {
      "text/plain": [
       "[array([[[226, 226, 226],\n",
       "         [239, 239, 239],\n",
       "         [244, 244, 244],\n",
       "         ...,\n",
       "         [250, 250, 250],\n",
       "         [250, 250, 250],\n",
       "         [250, 250, 250]],\n",
       " \n",
       "        [[226, 226, 226],\n",
       "         [239, 239, 239],\n",
       "         [244, 244, 244],\n",
       "         ...,\n",
       "         [250, 250, 250],\n",
       "         [250, 250, 250],\n",
       "         [250, 250, 250]],\n",
       " \n",
       "        [[226, 226, 226],\n",
       "         [239, 239, 239],\n",
       "         [244, 244, 244],\n",
       "         ...,\n",
       "         [250, 250, 250],\n",
       "         [250, 250, 250],\n",
       "         [250, 250, 250]],\n",
       " \n",
       "        ...,\n",
       " \n",
       "        [[221, 221, 221],\n",
       "         [235, 235, 235],\n",
       "         [244, 244, 244],\n",
       "         ...,\n",
       "         [252, 252, 252],\n",
       "         [252, 252, 252],\n",
       "         [252, 252, 252]],\n",
       " \n",
       "        [[224, 224, 224],\n",
       "         [237, 237, 237],\n",
       "         [245, 245, 245],\n",
       "         ...,\n",
       "         [252, 252, 252],\n",
       "         [252, 252, 252],\n",
       "         [252, 252, 252]],\n",
       " \n",
       "        [[228, 228, 228],\n",
       "         [239, 239, 239],\n",
       "         [246, 246, 246],\n",
       "         ...,\n",
       "         [252, 252, 252],\n",
       "         [252, 252, 252],\n",
       "         [252, 252, 252]]], dtype=uint8),\n",
       " array([[[221, 221, 221],\n",
       "         [235, 235, 234],\n",
       "         [242, 242, 241],\n",
       "         ...,\n",
       "         [252, 252, 252],\n",
       "         [252, 252, 252],\n",
       "         [252, 252, 252]],\n",
       " \n",
       "        [[221, 221, 221],\n",
       "         [235, 235, 234],\n",
       "         [242, 242, 241],\n",
       "         ...,\n",
       "         [252, 252, 252],\n",
       "         [252, 252, 252],\n",
       "         [252, 252, 252]],\n",
       " \n",
       "        [[221, 221, 221],\n",
       "         [235, 235, 234],\n",
       "         [242, 242, 241],\n",
       "         ...,\n",
       "         [252, 252, 252],\n",
       "         [252, 252, 252],\n",
       "         [252, 252, 252]],\n",
       " \n",
       "        ...,\n",
       " \n",
       "        [[233, 233, 233],\n",
       "         [243, 243, 243],\n",
       "         [246, 246, 246],\n",
       "         ...,\n",
       "         [251, 251, 251],\n",
       "         [251, 251, 251],\n",
       "         [251, 251, 251]],\n",
       " \n",
       "        [[238, 238, 238],\n",
       "         [244, 244, 244],\n",
       "         [248, 248, 248],\n",
       "         ...,\n",
       "         [251, 251, 251],\n",
       "         [251, 251, 251],\n",
       "         [251, 251, 251]],\n",
       " \n",
       "        [[  0,   0,   0],\n",
       "         [  0,   0,   0],\n",
       "         [  0,   0,   0],\n",
       "         ...,\n",
       "         [  0,   0,   0],\n",
       "         [  0,   0,   0],\n",
       "         [  0,   0,   0]]], dtype=uint8)]"
      ]
     },
     "execution_count": 84,
     "metadata": {},
     "output_type": "execute_result"
    }
   ],
   "source": [
    "images[5:-1]"
   ]
  },
  {
   "cell_type": "code",
   "execution_count": null,
   "id": "26b11c05-4809-4a4f-806a-5b9c7f8e13fc",
   "metadata": {},
   "outputs": [],
   "source": []
  }
 ],
 "metadata": {
  "kernelspec": {
   "display_name": "Python (Geoffrey)",
   "language": "python",
   "name": "geoffrey"
  },
  "language_info": {
   "codemirror_mode": {
    "name": "ipython",
    "version": 3
   },
   "file_extension": ".py",
   "mimetype": "text/x-python",
   "name": "python",
   "nbconvert_exporter": "python",
   "pygments_lexer": "ipython3",
   "version": "3.9.18"
  }
 },
 "nbformat": 4,
 "nbformat_minor": 5
}
